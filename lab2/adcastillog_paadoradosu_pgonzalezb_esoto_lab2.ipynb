{
  "nbformat": 4,
  "nbformat_minor": 0,
  "metadata": {
    "colab": {
      "name": "adcastillog_paadoradosu_pgonzalezb_esoto_lab2.ipynb",
      "provenance": [],
      "collapsed_sections": []
    },
    "kernelspec": {
      "name": "python3",
      "display_name": "Python 3"
    },
    "language_info": {
      "name": "python"
    }
  },
  "cells": [
    {
      "cell_type": "markdown",
      "metadata": {
        "id": "DkoXm54uQpZO"
      },
      "source": [
        "##Laboratorio 2\n",
        "#cumplir con cada uno de los 8 retos en sus grupos de trabajo\n",
        "#y subir el Colab a el repositorio de un seleccionado,\n",
        "for: 09/11/2021 12:59"
      ]
    },
    {
      "cell_type": "markdown",
      "metadata": {
        "id": "fzOGmk_1SRtK"
      },
      "source": [
        "##1. Define a procedure histogram () that takes a list of whole numbers and prints a histogram on the screen. Example: procedure ([4, 9, 7]) should print the following:\n",
        "\n",
        "#****\n",
        "#*********\n",
        "#*******"
      ]
    },
    {
      "cell_type": "code",
      "metadata": {
        "id": "rACd6_TWSJHP"
      },
      "source": [
        "def histogram (lista):\n",
        "  #here, your code"
      ],
      "execution_count": null,
      "outputs": []
    },
    {
      "cell_type": "code",
      "metadata": {
        "colab": {
          "base_uri": "https://localhost:8080/"
        },
        "id": "ouXg6-W_CdD1",
        "outputId": "dfcf4e8d-5e6c-40fb-c4de-5d713d484547"
      },
      "source": [
        "# Respuesta en C++ - Pablo Gonzalez B.\n",
        "\n",
        "%%writefile main.cpp\n",
        "\n",
        "#include <iostream>\n",
        "#include <vector>\n",
        "#include <string>\n",
        "#include <sstream>\n",
        "#include <utility>\n",
        "#include <iterator>\n",
        "using namespace std;\n",
        "\n",
        "void histogram(vector<int> lista) {\n",
        "    for (int i = 0; i < lista.size(); i++) {\n",
        "        int c = 0;\n",
        "        string ans = \"\";\n",
        "        while (c < lista.at(i)) {\n",
        "            ans += \"*\";\n",
        "            c++;\n",
        "        }\n",
        "        cout << ans << endl;\n",
        "    }\n",
        "}\n",
        "\n",
        "int main() {\n",
        "    cout << \"Ingrese la serie de enteros separados por un espacio: \" << endl;\n",
        "    vector<int> myVector;\n",
        "    string line;\n",
        "    getline(cin, line);\n",
        "    istringstream os(line);\n",
        "    int i;\n",
        "    while(os >> i)\n",
        "        myVector.push_back(i);\n",
        "\n",
        "    cout << \"Histograma: \" << endl; \n",
        "    histogram(myVector);\n",
        "}"
      ],
      "execution_count": null,
      "outputs": [
        {
          "output_type": "stream",
          "name": "stdout",
          "text": [
            "Overwriting main.cpp\n"
          ]
        }
      ]
    },
    {
      "cell_type": "code",
      "metadata": {
        "colab": {
          "base_uri": "https://localhost:8080/"
        },
        "id": "yAOyk8lYCgHh",
        "outputId": "adc34628-13b4-4ad5-9a6b-7fac01f380fe"
      },
      "source": [
        "%%shell\n",
        "g++ main.cpp -o output\n",
        "./output"
      ],
      "execution_count": null,
      "outputs": [
        {
          "output_type": "stream",
          "name": "stdout",
          "text": [
            "Ingrese la serie de enteros separados por un espacio: \n",
            "4 9 7\n",
            "Histograma: \n",
            "****\n",
            "*********\n",
            "*******\n"
          ]
        },
        {
          "output_type": "execute_result",
          "data": {
            "text/plain": [
              ""
            ]
          },
          "metadata": {},
          "execution_count": 4
        }
      ]
    },
    {
      "cell_type": "code",
      "metadata": {
        "colab": {
          "base_uri": "https://localhost:8080/"
        },
        "id": "Qz-4dedahjp9",
        "outputId": "6cf15181-ca31-4519-b450-c5e87167b115"
      },
      "source": [
        "#Respuesta en python Erwin Soto\n",
        "filas=list(map(int,input().split()))\n",
        "def histogram (lista):\n",
        "    for i in range(len(filas)):\n",
        "        for j in range(filas[i]):\n",
        "            print(\"*\",end=\"\")\n",
        "        print()\n",
        "        \n",
        "\n",
        "histogram(filas)"
      ],
      "execution_count": 1,
      "outputs": [
        {
          "output_type": "stream",
          "name": "stdout",
          "text": [
            "5 14 2\n",
            "*****\n",
            "**************\n",
            "**\n"
          ]
        }
      ]
    },
    {
      "cell_type": "code",
      "metadata": {
        "colab": {
          "base_uri": "https://localhost:8080/"
        },
        "id": "r1fHYZ0siA2q",
        "outputId": "626a634b-c9df-476b-d4c5-dc050aded78b"
      },
      "source": [
        "#Alternativa en python Adrian Castillo\n",
        "def histogram (lista):\n",
        "  #here, your code\n",
        "  for i in lista:\n",
        "    print('*'*i)\n",
        "histogram([3,6,4,2])"
      ],
      "execution_count": 2,
      "outputs": [
        {
          "output_type": "stream",
          "name": "stdout",
          "text": [
            "***\n",
            "******\n",
            "****\n",
            "**\n"
          ]
        }
      ]
    },
    {
      "cell_type": "markdown",
      "metadata": {
        "id": "rG_FvRddSnHW"
      },
      "source": [
        "#2. Write a longer_long () function that takes a list of words and returns the longest."
      ]
    },
    {
      "cell_type": "code",
      "metadata": {
        "id": "L0Yr05pUTnBv"
      },
      "source": [
        "def longer_long(lista):\n",
        "  mas_larga = \"\"\n",
        "  #here, your code\n",
        "  return mas_larga"
      ],
      "execution_count": null,
      "outputs": []
    },
    {
      "cell_type": "code",
      "metadata": {
        "colab": {
          "base_uri": "https://localhost:8080/"
        },
        "id": "RBIM3ZBODaJ0",
        "outputId": "fcc30a29-44f6-4ca6-c07d-c40bb6d9b151"
      },
      "source": [
        "# Respuesta en C++ - Pablo Gonzalez B.\n",
        "\n",
        "%%writefile main.cpp\n",
        "\n",
        "#include <iostream>\n",
        "#include <vector>\n",
        "#include <string>\n",
        "#include <sstream>\n",
        "#include <utility>\n",
        "#include <iterator>\n",
        "using namespace std;\n",
        "\n",
        "string longer_long(vector<string> lista) {\n",
        "    int max = 0;\n",
        "    int res = 0;\n",
        "    for (int i = 0; i < lista.size(); i++) {\n",
        "        if ( lista.at(i).length() > max ) {\n",
        "            max = lista.at(i).length();\n",
        "            res = i;\n",
        "        }\n",
        "    }\n",
        "\n",
        "    string mas_larga = lista.at(res);\n",
        "    return mas_larga;\n",
        "}\n",
        "\n",
        "int main() {\n",
        "    cout << \"Ingrese la serie de palabras separadas por un espacio: \" << endl;\n",
        "    vector<string> myVector;\n",
        "    string line;\n",
        "    getline(cin, line);\n",
        "    istringstream os(line);\n",
        "    string i;\n",
        "    while(os >> i)\n",
        "        myVector.push_back(i);\n",
        "\n",
        "    cout << \"La palabra mas larga es: \" << longer_long(myVector);\n",
        "}"
      ],
      "execution_count": null,
      "outputs": [
        {
          "output_type": "stream",
          "name": "stdout",
          "text": [
            "Overwriting main.cpp\n"
          ]
        }
      ]
    },
    {
      "cell_type": "code",
      "metadata": {
        "colab": {
          "base_uri": "https://localhost:8080/"
        },
        "id": "dJW82hAJEKsK",
        "outputId": "8c3ce3e4-3d1e-45b8-d71b-dd03a0e2d243"
      },
      "source": [
        "%%shell\n",
        "g++ main.cpp -o output\n",
        "./output"
      ],
      "execution_count": null,
      "outputs": [
        {
          "output_type": "stream",
          "name": "stdout",
          "text": [
            "Ingrese la serie de palabras separadas por un espacio: \n",
            "Que Murcielago Programacion Hola Si No PalabraMuyLarga\n",
            "La palabra mas larga es: PalabraMuyLarga"
          ]
        },
        {
          "output_type": "execute_result",
          "data": {
            "text/plain": [
              ""
            ]
          },
          "metadata": {},
          "execution_count": 6
        }
      ]
    },
    {
      "cell_type": "code",
      "metadata": {
        "colab": {
          "base_uri": "https://localhost:8080/"
        },
        "id": "bSrfy7briTSt",
        "outputId": "f31e9008-b1ce-487d-f76c-01362047dd6d"
      },
      "source": [
        "#Respuesta en python Erwin Soto\n",
        "cadenas=list(input().split())\n",
        "def longer_long(lista):\n",
        "  mas_larga = \"\"\n",
        "  for n,i in enumerate(cadenas):\n",
        "      \n",
        "      if(len(cadenas[n])>len(mas_larga)):\n",
        "          mas_larga=cadenas[n]\n",
        "        \n",
        "  return mas_larga\n",
        "\n",
        "print(longer_long(cadenas))"
      ],
      "execution_count": 3,
      "outputs": [
        {
          "output_type": "stream",
          "name": "stdout",
          "text": [
            "cadena cadenas cadenitas\n",
            "cadenitas\n"
          ]
        }
      ]
    },
    {
      "cell_type": "code",
      "metadata": {
        "colab": {
          "base_uri": "https://localhost:8080/"
        },
        "id": "p0rhOgTyigxk",
        "outputId": "f23f4cd1-bdab-4b7f-9cfd-f928e95c4fda"
      },
      "source": [
        "#Alternativa en python Adrian Castillo\n",
        "def longer_long(lista):\n",
        "  mas_larga = \"\"\n",
        "  #here, your code\n",
        "  for i in lista:\n",
        "    if len(i) > len(mas_larga):\n",
        "      mas_larga=i\n",
        "  return mas_larga\n",
        "print(longer_long([\"hola\",\"holas\",\"h\",\"larrrga\"]))"
      ],
      "execution_count": 4,
      "outputs": [
        {
          "output_type": "stream",
          "name": "stdout",
          "text": [
            "larrrga\n"
          ]
        }
      ]
    },
    {
      "cell_type": "markdown",
      "metadata": {
        "id": "6Z6cu4VfUYCm"
      },
      "source": [
        "#3. Write a program that tells the user to enter a string. The program has to evaluate the string and say how many capital letters it has."
      ]
    },
    {
      "cell_type": "code",
      "metadata": {
        "id": "4Ad4oDmMUlrm"
      },
      "source": [
        "def filt_words(lista, n):\n",
        "    #here, your code"
      ],
      "execution_count": null,
      "outputs": []
    },
    {
      "cell_type": "code",
      "metadata": {
        "colab": {
          "base_uri": "https://localhost:8080/"
        },
        "id": "VozI1wthETOh",
        "outputId": "fc4a6f04-a0ca-4e5b-e01e-349765ce79de"
      },
      "source": [
        "# Respuesta en C++ - Pablo Gonzalez B.\n",
        "\n",
        "%%writefile main.cpp\n",
        "\n",
        "#include <cctype>\n",
        "#include <iostream>\n",
        "#include <cstring>\n",
        "#include <vector>\n",
        "#include <string>\n",
        "#include <sstream>\n",
        "#include <utility>\n",
        "#include <iterator>\n",
        "using namespace std;\n",
        "\n",
        "int filt_words(string word) {\n",
        "    int count = 0;\n",
        "    for (int i = 0; i < word.size(); i++) {\n",
        "        char c = word.at(i);\n",
        "        if ( isupper(c) ) {\n",
        "            count += 1;\n",
        "        }\n",
        "    }\n",
        "\n",
        "    return count;\n",
        "}\n",
        "\n",
        "int main() {\n",
        "    string inp;\n",
        "    cout << \"Ingrese la palabra: \" << endl;\n",
        "    getline(cin, inp);\n",
        "\n",
        "    cout << \"El numero de letras mayusculas es: \" << filt_words(inp);\n",
        "}"
      ],
      "execution_count": null,
      "outputs": [
        {
          "output_type": "stream",
          "name": "stdout",
          "text": [
            "Overwriting main.cpp\n"
          ]
        }
      ]
    },
    {
      "cell_type": "code",
      "metadata": {
        "colab": {
          "base_uri": "https://localhost:8080/"
        },
        "id": "xftawvi7FNWj",
        "outputId": "1f05d2c3-c26c-4e4a-a435-e1c9a7aa06f6"
      },
      "source": [
        "%%shell\n",
        "g++ main.cpp -o output\n",
        "./output"
      ],
      "execution_count": null,
      "outputs": [
        {
          "output_type": "stream",
          "name": "stdout",
          "text": [
            "Ingrese la palabra: \n",
            "HoLa, CoMoO EstaS?\n",
            "El numero de letras mayusculas es: 7"
          ]
        },
        {
          "output_type": "execute_result",
          "data": {
            "text/plain": [
              ""
            ]
          },
          "metadata": {},
          "execution_count": 8
        }
      ]
    },
    {
      "cell_type": "code",
      "metadata": {
        "colab": {
          "base_uri": "https://localhost:8080/"
        },
        "id": "XKUJpCPei5uQ",
        "outputId": "34a0b4e8-52e6-4777-87a0-a478d903656c"
      },
      "source": [
        "#Respuesta en python Erwin Soto\n",
        "cadena=input(\"porfavor introduzca una cadena  \").split()\n",
        "def filt_words(lista):\n",
        "    n=0\n",
        "    for i in cadena:        \n",
        "        for j in i:            \n",
        "            if(j.isupper()):\n",
        "                n+=1\n",
        "    return n\n",
        "print(\"hay %s capital letters\" % (filt_words(cadena)))"
      ],
      "execution_count": 6,
      "outputs": [
        {
          "output_type": "stream",
          "name": "stdout",
          "text": [
            "porfavor introduzca una cadena  CadenaDePrueba\n",
            "hay 3 capital letters\n"
          ]
        }
      ]
    },
    {
      "cell_type": "code",
      "metadata": {
        "colab": {
          "base_uri": "https://localhost:8080/"
        },
        "id": "EKcl05BSjMPI",
        "outputId": "e5a8cdbb-8dae-4a92-a5b0-ca54c0d5a90c"
      },
      "source": [
        "#Alternativa en python Adrian Castillo\n",
        "def filt_words(lista):\n",
        "    #here, your code\n",
        "    n=0\n",
        "    for i in lista:\n",
        "      if i.isupper():\n",
        "        n+=1\n",
        "    return n\n",
        "print(filt_words(lista=input()))"
      ],
      "execution_count": 7,
      "outputs": [
        {
          "output_type": "stream",
          "name": "stdout",
          "text": [
            "Probando esta CaDeNa\n",
            "4\n"
          ]
        }
      ]
    },
    {
      "cell_type": "markdown",
      "metadata": {
        "id": "h_rpoZ4pUtRc"
      },
      "source": [
        "#4.Build a small program that converts binary numbers to integers. Example:\n",
        "#![image.png](data:image/png;base64,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)"
      ]
    },
    {
      "cell_type": "code",
      "metadata": {
        "id": "5ynFNOTKVSq9"
      },
      "source": [
        "def aDecimal(numeroBin):\n",
        "    decimal = 0\n",
        "    #here, your code\n",
        "    return decimal"
      ],
      "execution_count": null,
      "outputs": []
    },
    {
      "cell_type": "code",
      "metadata": {
        "colab": {
          "base_uri": "https://localhost:8080/"
        },
        "id": "9dfXz7vRFbp_",
        "outputId": "701bdd43-26db-47c5-a25e-1cce5e617040"
      },
      "source": [
        "# Respuesta en C++ - Pablo Gonzalez B.\n",
        "\n",
        "%%writefile main.cpp\n",
        "\n",
        "#include <cctype>\n",
        "#include <iostream>\n",
        "#include <cstring>\n",
        "#include <vector>\n",
        "using namespace std;\n",
        "\n",
        "int aDecimal(string binarynumber) {\n",
        "    int binary = stoi(binarynumber);\n",
        "    int decimal = 0;\n",
        "    int base = 1;\n",
        "    int temp = binary;\n",
        "\n",
        "    while (temp) {\n",
        "        int last_digit = temp % 10;\n",
        "        temp /= 10;\n",
        "        decimal += last_digit * base;\n",
        "        base *=  2;\n",
        "    }\n",
        " \n",
        "    return decimal;\n",
        "}\n",
        "\n",
        "int main() {\n",
        "    string bin;\n",
        "    cout << \"Ingrese el numero en formato binario: \" << endl;\n",
        "    getline(cin, bin);\n",
        "\n",
        "    cout << \"El numero equivalente en formato decimal es: \" << aDecimal(bin);\n",
        "}"
      ],
      "execution_count": null,
      "outputs": [
        {
          "output_type": "stream",
          "name": "stdout",
          "text": [
            "Overwriting main.cpp\n"
          ]
        }
      ]
    },
    {
      "cell_type": "code",
      "metadata": {
        "colab": {
          "base_uri": "https://localhost:8080/"
        },
        "id": "zxK5yvu_G1-0",
        "outputId": "8b89b74b-8981-4ba5-8934-f801112bf696"
      },
      "source": [
        "%%shell\n",
        "g++ main.cpp -o output\n",
        "./output"
      ],
      "execution_count": null,
      "outputs": [
        {
          "output_type": "stream",
          "name": "stdout",
          "text": [
            "Ingrese el numero en formato binario: \n",
            "01110\n",
            "El numero equivalente en formato decimal es: 14"
          ]
        },
        {
          "output_type": "execute_result",
          "data": {
            "text/plain": [
              ""
            ]
          },
          "metadata": {},
          "execution_count": 10
        }
      ]
    },
    {
      "cell_type": "code",
      "metadata": {
        "colab": {
          "base_uri": "https://localhost:8080/"
        },
        "id": "WPIbp3uTjjVx",
        "outputId": "5cd41822-2384-43a5-928f-07ee326bb6df"
      },
      "source": [
        "#Respuesta en python Erwin Soto\n",
        "binario=input()\n",
        "rever=binario [::-1]\n",
        "def aDecimal(numeroBin):\n",
        "    decimal = 0\n",
        "    for n,i in enumerate( numeroBin):\n",
        "        if(i==\"1\"):\n",
        "            decimal=decimal+2**n\n",
        "    return decimal\n",
        "print(aDecimal(rever))"
      ],
      "execution_count": 8,
      "outputs": [
        {
          "output_type": "stream",
          "name": "stdout",
          "text": [
            "1001\n",
            "9\n"
          ]
        }
      ]
    },
    {
      "cell_type": "code",
      "metadata": {
        "colab": {
          "base_uri": "https://localhost:8080/"
        },
        "id": "5dTu3EzQjxtF",
        "outputId": "4a486606-a51a-444f-8cb0-c5b8b042fb1a"
      },
      "source": [
        "#Alternativa en python Adrian Castillo\n",
        "def aDecimal(numeroBin):\n",
        "    decimal = 0\n",
        "    #here, your code\n",
        "    n=0\n",
        "    for i in numeroBin[::-1]:\n",
        "      if i==\"1\":\n",
        "        decimal+=2**n\n",
        "      n+=1\n",
        "    return decimal\n",
        "print(aDecimal(\"1111\"))"
      ],
      "execution_count": 9,
      "outputs": [
        {
          "output_type": "stream",
          "name": "stdout",
          "text": [
            "15\n"
          ]
        }
      ]
    },
    {
      "cell_type": "markdown",
      "metadata": {
        "id": "56HLGw30VjiX"
      },
      "source": [
        "#5.Create a function count_vols (), which receives a word and counts how many letters \"a\" it has, how many letters \"e\" it has, and so on until all the vowels are completed.\n",
        "You can make the user who chooses the word.\n",
        "only in lower letters"
      ]
    },
    {
      "cell_type": "code",
      "metadata": {
        "id": "wV0z9j6mQiX1"
      },
      "source": [
        "def contar_vocales(cadena):\n",
        "    #here, your code"
      ],
      "execution_count": null,
      "outputs": []
    },
    {
      "cell_type": "code",
      "metadata": {
        "colab": {
          "base_uri": "https://localhost:8080/"
        },
        "id": "aRDJET9vHG9Z",
        "outputId": "1f8760e2-9437-42f7-a7e1-3bcc92d23a8f"
      },
      "source": [
        "# Respuesta en C++ - Pablo Gonzalez B.\n",
        "\n",
        "%%writefile main.cpp\n",
        "\n",
        "#include <bits/stdc++.h>\n",
        "using namespace std;\n",
        "\n",
        "void contar_vocales(string word) {\n",
        "    map<char, int> m = {\n",
        "        {'a', 0},\n",
        "        {'e', 0},\n",
        "        {'i', 0},\n",
        "        {'o', 0},\n",
        "        {'u', 0}\n",
        "    };\n",
        "\n",
        "    for (int i = 0; i < word.size(); i++) {\n",
        "        char c = word.at(i);\n",
        "        switch (c) {\n",
        "            case 'a':\n",
        "              m['a'] += 1;\n",
        "              break;\n",
        "            case 'e':\n",
        "              m['e'] += 1;\n",
        "              break;\n",
        "            case 'i':\n",
        "              m['i'] += 1;\n",
        "              break;\n",
        "            case 'o':\n",
        "              m['o'] += 1;\n",
        "              break;\n",
        "            case 'u':\n",
        "              m['u'] += 1;\n",
        "              break;\n",
        "            default:\n",
        "              continue;\n",
        "        }\n",
        "    }\n",
        "\n",
        "    cout << \"Conteo de vocales:\" << endl;\n",
        "    cout << \"a: \" << m['a'] << \", e: \" << m['e'] << \", i: \" << m['i'] << \", o: \" << m['o'] << \", u: \" << m['u'] << endl;\n",
        "}\n",
        "\n",
        "int main() {\n",
        "    string w;\n",
        "    cout << \"Ingrese la palabra: \" << endl;\n",
        "    getline(cin, w);\n",
        "\n",
        "    contar_vocales(w);\n",
        "}"
      ],
      "execution_count": null,
      "outputs": [
        {
          "output_type": "stream",
          "name": "stdout",
          "text": [
            "Overwriting main.cpp\n"
          ]
        }
      ]
    },
    {
      "cell_type": "code",
      "metadata": {
        "colab": {
          "base_uri": "https://localhost:8080/"
        },
        "id": "PGSq6OPwMHLW",
        "outputId": "36b8872e-2a62-4fa2-fe00-09e6eed78092"
      },
      "source": [
        "%%shell\n",
        "g++ main.cpp -o output\n",
        "./output"
      ],
      "execution_count": null,
      "outputs": [
        {
          "output_type": "stream",
          "name": "stdout",
          "text": [
            "Ingrese la palabra: \n",
            "murcielaagooo\n",
            "Conteo de vocales:\n",
            "a: 2, e: 1, i: 1, o: 3, u: 1\n"
          ]
        },
        {
          "output_type": "execute_result",
          "data": {
            "text/plain": [
              ""
            ]
          },
          "metadata": {},
          "execution_count": 12
        }
      ]
    },
    {
      "cell_type": "code",
      "metadata": {
        "colab": {
          "base_uri": "https://localhost:8080/"
        },
        "id": "dOFF31S-kM1o",
        "outputId": "5ffa04a6-10a8-423d-b761-dd8d43205eea"
      },
      "source": [
        "#Respuesta en python Erwin Soto\n",
        "vocales=list(input())\n",
        "def contar_vocales(cadena):\n",
        "    a,e,si,o,u=0,0,0,0,0    \n",
        "    for i in cadena:\n",
        "        if (i==\"a\" or i==\"A\"):\n",
        "            a+=1\n",
        "        elif(i==\"e\" or i ==\"E\"):\n",
        "            e+=1\n",
        "        elif(i==\"i\" or i ==\"I\"):\n",
        "            si+=1\n",
        "        elif(i==\"o\" or i ==\"O\"):\n",
        "            o+=1\n",
        "        elif(i==\"u\" or i ==\"U\"):\n",
        "            u+=1\n",
        "    return a,e,si,o,u\n",
        "print(\"En la palabra hay %s aes, hay %s es, hay %s is, hay %s os, y hay %s us \"%(\n",
        "        contar_vocales(vocales)[0],\n",
        "        contar_vocales(vocales)[1],\n",
        "        contar_vocales(vocales)[2],\n",
        "        contar_vocales(vocales)[3],\n",
        "        contar_vocales(vocales)[4]))"
      ],
      "execution_count": 10,
      "outputs": [
        {
          "output_type": "stream",
          "name": "stdout",
          "text": [
            "contar numero de vocales\n",
            "En la palabra hay 2 aes, hay 3 es, hay 0 is, hay 3 os, y hay 1 us \n"
          ]
        }
      ]
    },
    {
      "cell_type": "code",
      "metadata": {
        "colab": {
          "base_uri": "https://localhost:8080/"
        },
        "id": "WGXnGCm4kY2b",
        "outputId": "bd4b2b75-297a-4d35-8468-917042626882"
      },
      "source": [
        "#Alternativa en python Adrian Castillo\n",
        "def contar_vocales(cadena):\n",
        "    #here, your code\n",
        "    volsa=\"aA\"\n",
        "    volse=\"eE\"\n",
        "    volsi=\"iI\"\n",
        "    volso=\"oO\"\n",
        "    volsu=\"uU\"\n",
        "    a=0\n",
        "    e=0\n",
        "    vi=0\n",
        "    o=0\n",
        "    u=0\n",
        "    for i in cadena:\n",
        "      if i in volsa:\n",
        "        a+=1\n",
        "      elif i in volse:\n",
        "        e+=1\n",
        "      elif i in volsi:\n",
        "        vi+=1\n",
        "      elif i in volso:\n",
        "        o+=1\n",
        "      elif i in volsu:\n",
        "        u+=1\n",
        "    return a,e,vi,o,u\n",
        "print(\"(a, e, i, o, u)\")\n",
        "print(contar_vocales(\"HolAa\"))"
      ],
      "execution_count": 14,
      "outputs": [
        {
          "output_type": "stream",
          "name": "stdout",
          "text": [
            "(a, e, i, o, u)\n",
            "(2, 0, 0, 1, 0)\n"
          ]
        }
      ]
    },
    {
      "cell_type": "markdown",
      "metadata": {
        "id": "cW8wgs4sWqe0"
      },
      "source": [
        "#6.Write a function is leap () that determines if a given year is a leap year \n",
        "A leap year is divisible by 4, but not by 100. It is also divisible by 400"
      ]
    },
    {
      "cell_type": "code",
      "metadata": {
        "id": "mVc2L_lhWqwC"
      },
      "source": [
        "def es_bisiesto():\n",
        "    #here, your code"
      ],
      "execution_count": null,
      "outputs": []
    },
    {
      "cell_type": "code",
      "metadata": {
        "colab": {
          "base_uri": "https://localhost:8080/"
        },
        "id": "dmaUeh5Da5Cc",
        "outputId": "75050515-7e63-475c-ea26-8f6541ac041a"
      },
      "source": [
        "# Respuesta en C++ - Pablo Gonzalez B.\n",
        "\n",
        "%%writefile main.cpp\n",
        "\n",
        "#include <bits/stdc++.h>\n",
        "using namespace std;\n",
        "\n",
        "void es_bisiesto(int year) {\n",
        "    if (year % 4 == 0) {\n",
        "        if (year % 100 == 0) {\n",
        "            if (year % 400 == 0) {\n",
        "                cout << (\"El año es bisiesto.\");\n",
        "            }\n",
        "            else {\n",
        "                cout << (\"El año no es bisiesto.\");\n",
        "            }\n",
        "        }\n",
        "        else {\n",
        "            cout << (\"El año es bisiesto.\");\n",
        "        }\n",
        "    }\n",
        "    \n",
        "    else {\n",
        "        cout << (\"El año no es bisiesto.\");\n",
        "    }\n",
        "}\n",
        "\n",
        "int main() {\n",
        "    int y;\n",
        "    cout << \"Ingrese el año: \" << endl;\n",
        "    cin >> y;\n",
        "\n",
        "    es_bisiesto(y);\n",
        "}"
      ],
      "execution_count": null,
      "outputs": [
        {
          "output_type": "stream",
          "name": "stdout",
          "text": [
            "Overwriting main.cpp\n"
          ]
        }
      ]
    },
    {
      "cell_type": "code",
      "metadata": {
        "colab": {
          "base_uri": "https://localhost:8080/"
        },
        "id": "6KwIvJoGb6nB",
        "outputId": "c31064ed-a504-4703-c222-c256c41f251d"
      },
      "source": [
        "%%shell\n",
        "g++ main.cpp -o output\n",
        "./output"
      ],
      "execution_count": null,
      "outputs": [
        {
          "output_type": "stream",
          "name": "stdout",
          "text": [
            "Ingrese el año: \n",
            "2016\n",
            "El año es bisiesto."
          ]
        },
        {
          "output_type": "execute_result",
          "data": {
            "text/plain": [
              ""
            ]
          },
          "metadata": {},
          "execution_count": 14
        }
      ]
    },
    {
      "cell_type": "code",
      "metadata": {
        "colab": {
          "base_uri": "https://localhost:8080/"
        },
        "id": "gT-kGZ06m2j0",
        "outputId": "82ab476e-9c4b-4d59-b733-94f2a4b247ad"
      },
      "source": [
        "#Respuesta python Erwin Soto\n",
        "ano=int(input())\n",
        "def es_bisiesto(ano):\n",
        "    if (ano%4==0):\n",
        "        if(ano%100==0):\n",
        "            if(ano%400==0):\n",
        "                return \"Bisiesto\"\n",
        "            else:\n",
        "                return \"No bisiesto\"\n",
        "        else:\n",
        "            return \"Bisiesto\"\n",
        "    else:\n",
        "        return\"No bisiesto\"\n",
        "\n",
        "print(es_bisiesto(ano))  "
      ],
      "execution_count": 15,
      "outputs": [
        {
          "output_type": "stream",
          "name": "stdout",
          "text": [
            "2008\n",
            "Bisiesto\n"
          ]
        }
      ]
    },
    {
      "cell_type": "code",
      "metadata": {
        "colab": {
          "base_uri": "https://localhost:8080/"
        },
        "id": "Zc1UQBYYnEOj",
        "outputId": "1fa99beb-1fee-4746-ec86-19fe22fc3b08"
      },
      "source": [
        "#Alternativa en python Adrian Castillo\n",
        "def es_bisiesto(year):\n",
        "    #here, your code\n",
        "    if year%4 == 0:\n",
        "      print(year,\" es bisiesto\")\n",
        "    else:\n",
        "      print(year,\" no es bisiesto\")\n",
        "es_bisiesto(2008)"
      ],
      "execution_count": 16,
      "outputs": [
        {
          "output_type": "stream",
          "name": "stdout",
          "text": [
            "2008  es bisiesto\n"
          ]
        }
      ]
    },
    {
      "cell_type": "markdown",
      "metadata": {
        "id": "5BuKdB_8YEzH"
      },
      "source": [
        "#7. Write a program that asks for two words and tells whether or not they rhyme. If the last three letters match, you have to say that they rhyme. If only the last two coincide, he has to say that they rhyme a bit and if not, that they do not rhyme.\n",
        "Example:\n",
        "![image.png](data:image/png;base64,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)"
      ]
    },
    {
      "cell_type": "code",
      "metadata": {
        "id": "DNbrtrbAYeBG"
      },
      "source": [
        "def rim(uno,dos):\n",
        "  #here, your code\n",
        "  #can return \"Not rhyme\", \"Not rhyme\" or \"rhyme a little\"\n",
        "  return \"Not rhyme\""
      ],
      "execution_count": null,
      "outputs": []
    },
    {
      "cell_type": "code",
      "metadata": {
        "colab": {
          "base_uri": "https://localhost:8080/"
        },
        "id": "qEvEpJmBckJU",
        "outputId": "c59d661e-788c-47ce-b03e-35bb3550a175"
      },
      "source": [
        "# Respuesta en C++ - Pablo Gonzalez B.\n",
        "\n",
        "%%writefile main.cpp\n",
        "\n",
        "#include <bits/stdc++.h>\n",
        "using namespace std;\n",
        "\n",
        "string rim(string w1, string w2) {\n",
        "    \n",
        "    int count = 0;\n",
        "    int index = 3;\n",
        "\n",
        "    while (index > 0) {\n",
        "       if (w1.at( w1.length() - index ) == w2.at( w2.length() - index )) {\n",
        "           count += 1;\n",
        "       }\n",
        "       index -= 1;\n",
        "    }\n",
        "\n",
        "    if (count == 3) {\n",
        "        return \"Riman\";\n",
        "    }\n",
        "    \n",
        "    else if (count == 2) {\n",
        "        return \"Riman un poco\";\n",
        "    }\n",
        "\n",
        "    return \"No riman\";\n",
        "}\n",
        "\n",
        "int main() {\n",
        "    cout << \"Ingrese el par de palabras separadas por un espacio: \" << endl;\n",
        "    vector<string> myVector;\n",
        "    string line;\n",
        "    getline(cin, line);\n",
        "    istringstream os(line);\n",
        "    string i;\n",
        "    while(os >> i)\n",
        "        myVector.push_back(i);\n",
        "\n",
        "    cout << \"Respuesta: \" << rim(myVector.at(0), myVector.at(1));\n",
        "}"
      ],
      "execution_count": null,
      "outputs": [
        {
          "output_type": "stream",
          "name": "stdout",
          "text": [
            "Overwriting main.cpp\n"
          ]
        }
      ]
    },
    {
      "cell_type": "code",
      "metadata": {
        "colab": {
          "base_uri": "https://localhost:8080/"
        },
        "id": "vRHgNfHHdw6E",
        "outputId": "51997dd3-d241-48df-fc64-787a8e8eb468"
      },
      "source": [
        "%%shell\n",
        "g++ main.cpp -o output\n",
        "./output"
      ],
      "execution_count": null,
      "outputs": [
        {
          "output_type": "stream",
          "name": "stdout",
          "text": [
            "Ingrese el par de palabras separadas por un espacio: \n",
            "accion pretencion\n",
            "Respuesta: Riman"
          ]
        },
        {
          "output_type": "execute_result",
          "data": {
            "text/plain": [
              ""
            ]
          },
          "metadata": {},
          "execution_count": 16
        }
      ]
    },
    {
      "cell_type": "code",
      "metadata": {
        "colab": {
          "base_uri": "https://localhost:8080/"
        },
        "id": "gNGtbpKXnPRY",
        "outputId": "bc710828-29da-4364-ec96-1d1322a2c898"
      },
      "source": [
        "#Respuesta python Erwin Soto\n",
        "palabras=input().split()\n",
        "def rim(uno,dos):   \n",
        "    if(uno[len(uno)-3:]==dos[len(dos)-3:]):\n",
        "        return \"riman\"\n",
        "    elif (uno[len(uno)-2:]==dos[len(dos)-2:]):\n",
        "        return \"riman un poco\"        \n",
        "    else:\n",
        "        return \"no riman\"  \n",
        "print(rim(palabras[0],palabras[1]))"
      ],
      "execution_count": 17,
      "outputs": [
        {
          "output_type": "stream",
          "name": "stdout",
          "text": [
            "riman rian\n",
            "riman un poco\n"
          ]
        }
      ]
    },
    {
      "cell_type": "code",
      "metadata": {
        "colab": {
          "base_uri": "https://localhost:8080/"
        },
        "id": "t8mtEbdfnkqm",
        "outputId": "eb59f29b-08c0-4ff2-a1ba-51a978ddd4ef"
      },
      "source": [
        "#Alternativa en python Adrian Castillo\n",
        "def rim(uno,dos):\n",
        "  #here, your code\n",
        "  #can return \"Not rhyme\", \"Not rhyme\" or \"rhyme a little\"\n",
        "  n=0\n",
        "  for i,j in zip(uno[:-4:-1],dos[:-4:-1]):\n",
        "    if i==j:\n",
        "      n+=1\n",
        "  if n==3:\n",
        "    return \"rhyme\"\n",
        "  elif n==2:\n",
        "    return \"rhyme a litte\"\n",
        "  else:\n",
        "    return \"Not rhyme\"\n",
        "print(rim(\"hola\",\"mwerrteola\"))"
      ],
      "execution_count": 18,
      "outputs": [
        {
          "output_type": "stream",
          "name": "stdout",
          "text": [
            "rhyme\n"
          ]
        }
      ]
    },
    {
      "cell_type": "markdown",
      "metadata": {
        "id": "RX_TI52-Z_bl"
      },
      "source": [
        "#8.It has a program that asks the user for a dollar amount, an interest rate, and a number of years. It shows on the screen how much the initial capital will have been converted after those years if the interest rate entered is applied each year.\n",
        "Remember that a capital C dollars at an interest of x percent for n years becomes C * (1 + x / 100) raised to n (years). Test the program knowing that an amount of $ 10,000 at 4.5% annual interest becomes $ 24,117.14 after 20 years."
      ]
    },
    {
      "cell_type": "code",
      "metadata": {
        "id": "Y2Xi2BT-aREe"
      },
      "source": [
        "def calculo (dinero, inte, cant_anos):\n",
        " #here, your code\n",
        " return x"
      ],
      "execution_count": null,
      "outputs": []
    },
    {
      "cell_type": "code",
      "metadata": {
        "colab": {
          "base_uri": "https://localhost:8080/"
        },
        "id": "UrFJ550nfJcG",
        "outputId": "aaa34b18-5e52-4477-bc0a-8242bd6f22bf"
      },
      "source": [
        "# Respuesta en C++ - Pablo Gonzalez B.\n",
        "\n",
        "%%writefile main.cpp\n",
        "\n",
        "#include <bits/stdc++.h>\n",
        "using namespace std;\n",
        "\n",
        "double calculo(double dollar_amt, double int_rate, double years) {\n",
        "    double C = dollar_amt;\n",
        "    double rate = int_rate/100;\n",
        "\n",
        "    return C * pow( (1 + rate), years);\n",
        "}\n",
        "\n",
        "int main() {\n",
        "    cout << \"Ingrese la cantidad en dolares, la tasa de interés en porcentaje (sin el %) y el numero de años, los tres separados por espacio: \" << endl;\n",
        "    vector<string> myVector;\n",
        "    string line;\n",
        "    getline(cin, line);\n",
        "    istringstream os(line);\n",
        "    string i;\n",
        "    while(os >> i)\n",
        "        myVector.push_back(i);\n",
        "\n",
        "    cout << \"El capital final es: \" << calculo(stod(myVector.at(0)), stod(myVector.at(1)), stod(myVector.at(2)));\n",
        "}"
      ],
      "execution_count": null,
      "outputs": [
        {
          "output_type": "stream",
          "name": "stdout",
          "text": [
            "Overwriting main.cpp\n"
          ]
        }
      ]
    },
    {
      "cell_type": "code",
      "metadata": {
        "colab": {
          "base_uri": "https://localhost:8080/"
        },
        "id": "fMlJIpGNgFQW",
        "outputId": "edfcbe15-4ec9-4d5b-b55d-5d23f5848b06"
      },
      "source": [
        "%%shell\n",
        "g++ main.cpp -o output\n",
        "./output"
      ],
      "execution_count": null,
      "outputs": [
        {
          "output_type": "stream",
          "name": "stdout",
          "text": [
            "Ingrese la cantidad en dolares, la tasa de interés en porcentaje (sin el %) y el numero de años, los tres separados por espacio: \n",
            "10000 4.5 20\n",
            "El capital final es: 24117.1"
          ]
        },
        {
          "output_type": "execute_result",
          "data": {
            "text/plain": [
              ""
            ]
          },
          "metadata": {},
          "execution_count": 18
        }
      ]
    },
    {
      "cell_type": "code",
      "metadata": {
        "colab": {
          "base_uri": "https://localhost:8080/"
        },
        "id": "Ht_5CifVnuEY",
        "outputId": "9cb17e4a-5fb7-4ee7-f625-3a7658161943"
      },
      "source": [
        "#Respuesta en python Erwin Soto\n",
        "dolar=float(input(\"ingrese la cantidad de dolares \"))\n",
        "interes=float(input(\"ingrese el interes \"))\n",
        "anos=float(input(\"ingrese los añnos \"))\n",
        "\n",
        "def calculo (dinero, inte, cant_anos):    \n",
        " x=dinero*(1+inte/100)**cant_anos\n",
        " return x\n",
        "\n",
        "print(calculo(dolar,interes,anos))"
      ],
      "execution_count": 19,
      "outputs": [
        {
          "output_type": "stream",
          "name": "stdout",
          "text": [
            "ingrese la cantidad de dolares 10000\n",
            "ingrese el interes 4.5\n",
            "ingrese los añnos 20\n",
            "24117.140248374057\n"
          ]
        }
      ]
    },
    {
      "cell_type": "code",
      "metadata": {
        "colab": {
          "base_uri": "https://localhost:8080/"
        },
        "id": "HbzT4c2Jn2W7",
        "outputId": "d667e82e-8115-46d0-cfc6-6641955215c5"
      },
      "source": [
        "#Alternativa en python Adrian Castillo\n",
        "def calculo (dinero, inte, cant_anos):\n",
        " #here, your code\n",
        " x=dinero*(1+inte/100)**cant_anos\n",
        " return x\n",
        "print(\"Ingrese el capital\")\n",
        "dinero=input()\n",
        "print(\"Ingrese tasa de interes\")\n",
        "inte=input()\n",
        "print(\"Ingrese numero de periodos\")\n",
        "cant_anos=input()\n",
        "print(calculo(10000,4.5,20))"
      ],
      "execution_count": 20,
      "outputs": [
        {
          "output_type": "stream",
          "name": "stdout",
          "text": [
            "Ingrese el capital\n",
            "10000\n",
            "Ingrese tasa de interes\n",
            "4.5\n",
            "Ingrese numero de periodos\n",
            "20\n",
            "24117.140248374057\n"
          ]
        }
      ]
    }
  ]
}