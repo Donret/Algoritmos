{
  "nbformat": 4,
  "nbformat_minor": 0,
  "metadata": {
    "interpreter": {
      "hash": "aee8b7b246df8f9039afb4144a1f6fd8d2ca17a180786b69acc140d282b71a49"
    },
    "kernelspec": {
      "display_name": "Python 3.9.7 64-bit",
      "language": "python",
      "name": "python3"
    },
    "language_info": {
      "codemirror_mode": {
        "name": "ipython",
        "version": 3
      },
      "file_extension": ".py",
      "mimetype": "text/x-python",
      "name": "python",
      "nbconvert_exporter": "python",
      "pygments_lexer": "ipython3",
      "version": "3.9.7"
    },
    "orig_nbformat": 4,
    "colab": {
      "name": "find-password.ipynb",
      "provenance": []
    }
  },
  "cells": [
    {
      "cell_type": "code",
      "metadata": {
        "colab": {
          "base_uri": "https://localhost:8080/"
        },
        "id": "3jGxSSK0ChdS",
        "outputId": "0aa5efa6-bb2a-41b2-d4a3-cb01a9a9eb2d"
      },
      "source": [
        "import time\n",
        "\n",
        "def password_lookup(target):#O(n*m)\n",
        "    password = [ 48, 48, 48, 97, 97, 97 ] #O(1)\n",
        "    rounds = 0 #O(1)\n",
        "    \n",
        "    while password != [ 57, 57, 57, 122, 122, 122 ]: #O(n)\n",
        "        rounds += 1 #O(1)\n",
        "        password[5] += 1 #O(1)\n",
        "\n",
        "        for i in range(len(password)): #O(m)\n",
        "            if i < 3 and password[i] == 58: #O(1)\n",
        "                password[i] = 48 #O(1)\n",
        "                password[i - 1] += 1 #O(1)\n",
        "            \n",
        "            if i >= 3 and password[i] == 123: #O(1)\n",
        "                password[i] = 97 #O(1)\n",
        "                password[i - 1] += 1 #O(1)\n",
        "            \n",
        "        if ''.join([ chr(i) for i in password ]) == target:#O(s)\n",
        "            return 'found it in {} rounds!'.format(rounds) #O(1)\n",
        "\n",
        "    return 'not found! {} rounds'.format(rounds) #O(1)\n",
        "\n",
        "starts_at = time.time() #O(1)\n",
        "sorted = password_lookup('595alg') #O(n*m)\n",
        "ends_at = time.time() #O(1)\n",
        "\n",
        "print(sorted) #O(1)\n",
        "print('finished in {}s'.format(ends_at - starts_at)) #O(1)\n",
        "\n",
        "#O(1)+O(1)[O(n)[O(1)+O(1)[O(m)[O(1)+O(1)+O(1)]+[O(a)+O(1)]]]]=O(n*m*s)\n",
        "#O(1)+O(n*m)+O(1)+O(1)+O(1)=O(n*m*s)\n"
      ],
      "execution_count": 2,
      "outputs": [
        {
          "output_type": "stream",
          "name": "stdout",
          "text": [
            "found it in 10458012 rounds!\n",
            "finished in 24.21258568763733s\n"
          ]
        }
      ]
    }
  ]
}